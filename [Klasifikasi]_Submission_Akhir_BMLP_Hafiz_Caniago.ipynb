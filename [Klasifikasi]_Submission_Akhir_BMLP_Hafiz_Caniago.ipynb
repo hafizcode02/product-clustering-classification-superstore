{
  "nbformat": 4,
  "nbformat_minor": 0,
  "metadata": {
    "colab": {
      "provenance": []
    },
    "kernelspec": {
      "name": "python3",
      "display_name": "Python 3"
    },
    "language_info": {
      "name": "python"
    }
  },
  "cells": [
    {
      "cell_type": "markdown",
      "source": [
        "# **1. Import Library**"
      ],
      "metadata": {
        "id": "fKADPWcFKlj3"
      }
    },
    {
      "cell_type": "code",
      "source": [
        "import pandas as pd\n",
        "import numpy as np\n",
        "from sklearn.model_selection import train_test_split, RandomizedSearchCV\n",
        "from sklearn.preprocessing import StandardScaler, OneHotEncoder\n",
        "from sklearn.compose import ColumnTransformer\n",
        "from sklearn.pipeline import Pipeline\n",
        "from sklearn.ensemble import RandomForestClassifier\n",
        "from sklearn.neighbors import KNeighborsClassifier\n",
        "from sklearn.metrics import classification_report, f1_score, accuracy_score, precision_score, recall_score\n",
        "import matplotlib.pyplot as plt\n",
        "import seaborn as sns"
      ],
      "metadata": {
        "id": "BlmvjLY9M4Yj"
      },
      "execution_count": 110,
      "outputs": []
    },
    {
      "cell_type": "markdown",
      "source": [
        "# **2. Memuat Dataset dari Hasil Clustering**"
      ],
      "metadata": {
        "id": "f3YIEnAFKrKL"
      }
    },
    {
      "cell_type": "code",
      "source": [
        "df = pd.read_csv('/content/dataset_clustering.csv')"
      ],
      "metadata": {
        "id": "GHCGNTyrM5fS"
      },
      "execution_count": 111,
      "outputs": []
    },
    {
      "cell_type": "code",
      "source": [
        "df.head(5)"
      ],
      "metadata": {
        "colab": {
          "base_uri": "https://localhost:8080/",
          "height": 206
        },
        "id": "HaMmd4L_Buln",
        "outputId": "7050bcd4-f988-4e3f-f851-566594d8b84a"
      },
      "execution_count": 112,
      "outputs": [
        {
          "output_type": "execute_result",
          "data": {
            "text/plain": [
              "        Product ID   Category Sub-Category     Sales    Profit  Quantity  \\\n",
              "0  FUR-BO-10000112  Furniture    Bookcases   825.174 -117.8820         9   \n",
              "1  FUR-BO-10000330  Furniture    Bookcases  1064.624   24.1960        10   \n",
              "2  FUR-BO-10000362  Furniture    Bookcases  2154.348  311.1836        14   \n",
              "3  FUR-BO-10000468  Furniture    Bookcases   723.842 -133.1092        21   \n",
              "4  FUR-BO-10000711  Furniture    Bookcases   851.760  229.9752        12   \n",
              "\n",
              "   Discount  Cluster  \n",
              "0  0.300000        0  \n",
              "1  0.100000        2  \n",
              "2  0.130000        2  \n",
              "3  0.183333        2  \n",
              "4  0.000000        2  "
            ],
            "text/html": [
              "\n",
              "  <div id=\"df-651e40d9-3777-4e2e-bf48-00637ea3dc5d\" class=\"colab-df-container\">\n",
              "    <div>\n",
              "<style scoped>\n",
              "    .dataframe tbody tr th:only-of-type {\n",
              "        vertical-align: middle;\n",
              "    }\n",
              "\n",
              "    .dataframe tbody tr th {\n",
              "        vertical-align: top;\n",
              "    }\n",
              "\n",
              "    .dataframe thead th {\n",
              "        text-align: right;\n",
              "    }\n",
              "</style>\n",
              "<table border=\"1\" class=\"dataframe\">\n",
              "  <thead>\n",
              "    <tr style=\"text-align: right;\">\n",
              "      <th></th>\n",
              "      <th>Product ID</th>\n",
              "      <th>Category</th>\n",
              "      <th>Sub-Category</th>\n",
              "      <th>Sales</th>\n",
              "      <th>Profit</th>\n",
              "      <th>Quantity</th>\n",
              "      <th>Discount</th>\n",
              "      <th>Cluster</th>\n",
              "    </tr>\n",
              "  </thead>\n",
              "  <tbody>\n",
              "    <tr>\n",
              "      <th>0</th>\n",
              "      <td>FUR-BO-10000112</td>\n",
              "      <td>Furniture</td>\n",
              "      <td>Bookcases</td>\n",
              "      <td>825.174</td>\n",
              "      <td>-117.8820</td>\n",
              "      <td>9</td>\n",
              "      <td>0.300000</td>\n",
              "      <td>0</td>\n",
              "    </tr>\n",
              "    <tr>\n",
              "      <th>1</th>\n",
              "      <td>FUR-BO-10000330</td>\n",
              "      <td>Furniture</td>\n",
              "      <td>Bookcases</td>\n",
              "      <td>1064.624</td>\n",
              "      <td>24.1960</td>\n",
              "      <td>10</td>\n",
              "      <td>0.100000</td>\n",
              "      <td>2</td>\n",
              "    </tr>\n",
              "    <tr>\n",
              "      <th>2</th>\n",
              "      <td>FUR-BO-10000362</td>\n",
              "      <td>Furniture</td>\n",
              "      <td>Bookcases</td>\n",
              "      <td>2154.348</td>\n",
              "      <td>311.1836</td>\n",
              "      <td>14</td>\n",
              "      <td>0.130000</td>\n",
              "      <td>2</td>\n",
              "    </tr>\n",
              "    <tr>\n",
              "      <th>3</th>\n",
              "      <td>FUR-BO-10000468</td>\n",
              "      <td>Furniture</td>\n",
              "      <td>Bookcases</td>\n",
              "      <td>723.842</td>\n",
              "      <td>-133.1092</td>\n",
              "      <td>21</td>\n",
              "      <td>0.183333</td>\n",
              "      <td>2</td>\n",
              "    </tr>\n",
              "    <tr>\n",
              "      <th>4</th>\n",
              "      <td>FUR-BO-10000711</td>\n",
              "      <td>Furniture</td>\n",
              "      <td>Bookcases</td>\n",
              "      <td>851.760</td>\n",
              "      <td>229.9752</td>\n",
              "      <td>12</td>\n",
              "      <td>0.000000</td>\n",
              "      <td>2</td>\n",
              "    </tr>\n",
              "  </tbody>\n",
              "</table>\n",
              "</div>\n",
              "    <div class=\"colab-df-buttons\">\n",
              "\n",
              "  <div class=\"colab-df-container\">\n",
              "    <button class=\"colab-df-convert\" onclick=\"convertToInteractive('df-651e40d9-3777-4e2e-bf48-00637ea3dc5d')\"\n",
              "            title=\"Convert this dataframe to an interactive table.\"\n",
              "            style=\"display:none;\">\n",
              "\n",
              "  <svg xmlns=\"http://www.w3.org/2000/svg\" height=\"24px\" viewBox=\"0 -960 960 960\">\n",
              "    <path d=\"M120-120v-720h720v720H120Zm60-500h600v-160H180v160Zm220 220h160v-160H400v160Zm0 220h160v-160H400v160ZM180-400h160v-160H180v160Zm440 0h160v-160H620v160ZM180-180h160v-160H180v160Zm440 0h160v-160H620v160Z\"/>\n",
              "  </svg>\n",
              "    </button>\n",
              "\n",
              "  <style>\n",
              "    .colab-df-container {\n",
              "      display:flex;\n",
              "      gap: 12px;\n",
              "    }\n",
              "\n",
              "    .colab-df-convert {\n",
              "      background-color: #E8F0FE;\n",
              "      border: none;\n",
              "      border-radius: 50%;\n",
              "      cursor: pointer;\n",
              "      display: none;\n",
              "      fill: #1967D2;\n",
              "      height: 32px;\n",
              "      padding: 0 0 0 0;\n",
              "      width: 32px;\n",
              "    }\n",
              "\n",
              "    .colab-df-convert:hover {\n",
              "      background-color: #E2EBFA;\n",
              "      box-shadow: 0px 1px 2px rgba(60, 64, 67, 0.3), 0px 1px 3px 1px rgba(60, 64, 67, 0.15);\n",
              "      fill: #174EA6;\n",
              "    }\n",
              "\n",
              "    .colab-df-buttons div {\n",
              "      margin-bottom: 4px;\n",
              "    }\n",
              "\n",
              "    [theme=dark] .colab-df-convert {\n",
              "      background-color: #3B4455;\n",
              "      fill: #D2E3FC;\n",
              "    }\n",
              "\n",
              "    [theme=dark] .colab-df-convert:hover {\n",
              "      background-color: #434B5C;\n",
              "      box-shadow: 0px 1px 3px 1px rgba(0, 0, 0, 0.15);\n",
              "      filter: drop-shadow(0px 1px 2px rgba(0, 0, 0, 0.3));\n",
              "      fill: #FFFFFF;\n",
              "    }\n",
              "  </style>\n",
              "\n",
              "    <script>\n",
              "      const buttonEl =\n",
              "        document.querySelector('#df-651e40d9-3777-4e2e-bf48-00637ea3dc5d button.colab-df-convert');\n",
              "      buttonEl.style.display =\n",
              "        google.colab.kernel.accessAllowed ? 'block' : 'none';\n",
              "\n",
              "      async function convertToInteractive(key) {\n",
              "        const element = document.querySelector('#df-651e40d9-3777-4e2e-bf48-00637ea3dc5d');\n",
              "        const dataTable =\n",
              "          await google.colab.kernel.invokeFunction('convertToInteractive',\n",
              "                                                    [key], {});\n",
              "        if (!dataTable) return;\n",
              "\n",
              "        const docLinkHtml = 'Like what you see? Visit the ' +\n",
              "          '<a target=\"_blank\" href=https://colab.research.google.com/notebooks/data_table.ipynb>data table notebook</a>'\n",
              "          + ' to learn more about interactive tables.';\n",
              "        element.innerHTML = '';\n",
              "        dataTable['output_type'] = 'display_data';\n",
              "        await google.colab.output.renderOutput(dataTable, element);\n",
              "        const docLink = document.createElement('div');\n",
              "        docLink.innerHTML = docLinkHtml;\n",
              "        element.appendChild(docLink);\n",
              "      }\n",
              "    </script>\n",
              "  </div>\n",
              "\n",
              "\n",
              "<div id=\"df-ebb0c1ab-49bd-4167-b0a4-aad5a94a661f\">\n",
              "  <button class=\"colab-df-quickchart\" onclick=\"quickchart('df-ebb0c1ab-49bd-4167-b0a4-aad5a94a661f')\"\n",
              "            title=\"Suggest charts\"\n",
              "            style=\"display:none;\">\n",
              "\n",
              "<svg xmlns=\"http://www.w3.org/2000/svg\" height=\"24px\"viewBox=\"0 0 24 24\"\n",
              "     width=\"24px\">\n",
              "    <g>\n",
              "        <path d=\"M19 3H5c-1.1 0-2 .9-2 2v14c0 1.1.9 2 2 2h14c1.1 0 2-.9 2-2V5c0-1.1-.9-2-2-2zM9 17H7v-7h2v7zm4 0h-2V7h2v10zm4 0h-2v-4h2v4z\"/>\n",
              "    </g>\n",
              "</svg>\n",
              "  </button>\n",
              "\n",
              "<style>\n",
              "  .colab-df-quickchart {\n",
              "      --bg-color: #E8F0FE;\n",
              "      --fill-color: #1967D2;\n",
              "      --hover-bg-color: #E2EBFA;\n",
              "      --hover-fill-color: #174EA6;\n",
              "      --disabled-fill-color: #AAA;\n",
              "      --disabled-bg-color: #DDD;\n",
              "  }\n",
              "\n",
              "  [theme=dark] .colab-df-quickchart {\n",
              "      --bg-color: #3B4455;\n",
              "      --fill-color: #D2E3FC;\n",
              "      --hover-bg-color: #434B5C;\n",
              "      --hover-fill-color: #FFFFFF;\n",
              "      --disabled-bg-color: #3B4455;\n",
              "      --disabled-fill-color: #666;\n",
              "  }\n",
              "\n",
              "  .colab-df-quickchart {\n",
              "    background-color: var(--bg-color);\n",
              "    border: none;\n",
              "    border-radius: 50%;\n",
              "    cursor: pointer;\n",
              "    display: none;\n",
              "    fill: var(--fill-color);\n",
              "    height: 32px;\n",
              "    padding: 0;\n",
              "    width: 32px;\n",
              "  }\n",
              "\n",
              "  .colab-df-quickchart:hover {\n",
              "    background-color: var(--hover-bg-color);\n",
              "    box-shadow: 0 1px 2px rgba(60, 64, 67, 0.3), 0 1px 3px 1px rgba(60, 64, 67, 0.15);\n",
              "    fill: var(--button-hover-fill-color);\n",
              "  }\n",
              "\n",
              "  .colab-df-quickchart-complete:disabled,\n",
              "  .colab-df-quickchart-complete:disabled:hover {\n",
              "    background-color: var(--disabled-bg-color);\n",
              "    fill: var(--disabled-fill-color);\n",
              "    box-shadow: none;\n",
              "  }\n",
              "\n",
              "  .colab-df-spinner {\n",
              "    border: 2px solid var(--fill-color);\n",
              "    border-color: transparent;\n",
              "    border-bottom-color: var(--fill-color);\n",
              "    animation:\n",
              "      spin 1s steps(1) infinite;\n",
              "  }\n",
              "\n",
              "  @keyframes spin {\n",
              "    0% {\n",
              "      border-color: transparent;\n",
              "      border-bottom-color: var(--fill-color);\n",
              "      border-left-color: var(--fill-color);\n",
              "    }\n",
              "    20% {\n",
              "      border-color: transparent;\n",
              "      border-left-color: var(--fill-color);\n",
              "      border-top-color: var(--fill-color);\n",
              "    }\n",
              "    30% {\n",
              "      border-color: transparent;\n",
              "      border-left-color: var(--fill-color);\n",
              "      border-top-color: var(--fill-color);\n",
              "      border-right-color: var(--fill-color);\n",
              "    }\n",
              "    40% {\n",
              "      border-color: transparent;\n",
              "      border-right-color: var(--fill-color);\n",
              "      border-top-color: var(--fill-color);\n",
              "    }\n",
              "    60% {\n",
              "      border-color: transparent;\n",
              "      border-right-color: var(--fill-color);\n",
              "    }\n",
              "    80% {\n",
              "      border-color: transparent;\n",
              "      border-right-color: var(--fill-color);\n",
              "      border-bottom-color: var(--fill-color);\n",
              "    }\n",
              "    90% {\n",
              "      border-color: transparent;\n",
              "      border-bottom-color: var(--fill-color);\n",
              "    }\n",
              "  }\n",
              "</style>\n",
              "\n",
              "  <script>\n",
              "    async function quickchart(key) {\n",
              "      const quickchartButtonEl =\n",
              "        document.querySelector('#' + key + ' button');\n",
              "      quickchartButtonEl.disabled = true;  // To prevent multiple clicks.\n",
              "      quickchartButtonEl.classList.add('colab-df-spinner');\n",
              "      try {\n",
              "        const charts = await google.colab.kernel.invokeFunction(\n",
              "            'suggestCharts', [key], {});\n",
              "      } catch (error) {\n",
              "        console.error('Error during call to suggestCharts:', error);\n",
              "      }\n",
              "      quickchartButtonEl.classList.remove('colab-df-spinner');\n",
              "      quickchartButtonEl.classList.add('colab-df-quickchart-complete');\n",
              "    }\n",
              "    (() => {\n",
              "      let quickchartButtonEl =\n",
              "        document.querySelector('#df-ebb0c1ab-49bd-4167-b0a4-aad5a94a661f button');\n",
              "      quickchartButtonEl.style.display =\n",
              "        google.colab.kernel.accessAllowed ? 'block' : 'none';\n",
              "    })();\n",
              "  </script>\n",
              "</div>\n",
              "\n",
              "    </div>\n",
              "  </div>\n"
            ],
            "application/vnd.google.colaboratory.intrinsic+json": {
              "type": "dataframe",
              "variable_name": "df",
              "summary": "{\n  \"name\": \"df\",\n  \"rows\": 1862,\n  \"fields\": [\n    {\n      \"column\": \"Product ID\",\n      \"properties\": {\n        \"dtype\": \"string\",\n        \"num_unique_values\": 1862,\n        \"samples\": [\n          \"FUR-FU-10002685\",\n          \"OFF-AR-10001860\",\n          \"OFF-PA-10003543\"\n        ],\n        \"semantic_type\": \"\",\n        \"description\": \"\"\n      }\n    },\n    {\n      \"column\": \"Category\",\n      \"properties\": {\n        \"dtype\": \"category\",\n        \"num_unique_values\": 3,\n        \"samples\": [\n          \"Furniture\",\n          \"Office Supplies\",\n          \"Technology\"\n        ],\n        \"semantic_type\": \"\",\n        \"description\": \"\"\n      }\n    },\n    {\n      \"column\": \"Sub-Category\",\n      \"properties\": {\n        \"dtype\": \"category\",\n        \"num_unique_values\": 17,\n        \"samples\": [\n          \"Bookcases\",\n          \"Chairs\",\n          \"Art\"\n        ],\n        \"semantic_type\": \"\",\n        \"description\": \"\"\n      }\n    },\n    {\n      \"column\": \"Sales\",\n      \"properties\": {\n        \"dtype\": \"number\",\n        \"std\": 2807.1551234466133,\n        \"min\": 1.624,\n        \"max\": 61599.824,\n        \"num_unique_values\": 1834,\n        \"samples\": [\n          54.474,\n          3963.901,\n          168.13\n        ],\n        \"semantic_type\": \"\",\n        \"description\": \"\"\n      }\n    },\n    {\n      \"column\": \"Profit\",\n      \"properties\": {\n        \"dtype\": \"number\",\n        \"std\": 809.7423931869641,\n        \"min\": -8879.9704,\n        \"max\": 25199.928,\n        \"num_unique_values\": 1853,\n        \"samples\": [\n          21.318,\n          20.8325,\n          273.18240000000003\n        ],\n        \"semantic_type\": \"\",\n        \"description\": \"\"\n      }\n    },\n    {\n      \"column\": \"Quantity\",\n      \"properties\": {\n        \"dtype\": \"number\",\n        \"std\": 11,\n        \"min\": 1,\n        \"max\": 75,\n        \"num_unique_values\": 63,\n        \"samples\": [\n          60,\n          67,\n          9\n        ],\n        \"semantic_type\": \"\",\n        \"description\": \"\"\n      }\n    },\n    {\n      \"column\": \"Discount\",\n      \"properties\": {\n        \"dtype\": \"number\",\n        \"std\": 0.13295517011881477,\n        \"min\": 0.0,\n        \"max\": 0.8,\n        \"num_unique_values\": 214,\n        \"samples\": [\n          0.2633333333333333,\n          0.1615384615384615,\n          0.2285714285714286\n        ],\n        \"semantic_type\": \"\",\n        \"description\": \"\"\n      }\n    },\n    {\n      \"column\": \"Cluster\",\n      \"properties\": {\n        \"dtype\": \"number\",\n        \"std\": 0,\n        \"min\": 0,\n        \"max\": 2,\n        \"num_unique_values\": 3,\n        \"samples\": [\n          0,\n          2,\n          1\n        ],\n        \"semantic_type\": \"\",\n        \"description\": \"\"\n      }\n    }\n  ]\n}"
            }
          },
          "metadata": {},
          "execution_count": 112
        }
      ]
    },
    {
      "cell_type": "markdown",
      "source": [
        "# **3. Data Splitting**"
      ],
      "metadata": {
        "id": "KkPem5eWL2UP"
      }
    },
    {
      "cell_type": "markdown",
      "source": [
        "> Tahap Data Splitting bertujuan untuk memisahkan dataset menjadi dua bagian: data latih (training set) dan data uji (test set).\n",
        "\n"
      ],
      "metadata": {
        "id": "YYj1rl_JNI9Y"
      }
    },
    {
      "cell_type": "code",
      "source": [
        "# prepare dataset training & testing\n",
        "X = df.drop('Cluster', axis=1) # drop cluster for training\n",
        "y = df['Cluster'] # only cluster for testing"
      ],
      "metadata": {
        "id": "OubAW-7ONKVj"
      },
      "execution_count": 113,
      "outputs": []
    },
    {
      "cell_type": "code",
      "source": [
        "# Split data (80% training, 20% testing)\n",
        "X_train, X_test, y_train, y_test = train_test_split(\n",
        "    X, y,\n",
        "    test_size=0.2,\n",
        "    stratify=y,\n",
        "    random_state=42\n",
        ")\n",
        "\n",
        "print(f\"Training set shape: X_train={X_train.shape}, y_train={y_train.shape}\")\n",
        "print(f\"Test set shape: X_test={X_test.shape}, y_test={y_test.shape}\")"
      ],
      "metadata": {
        "colab": {
          "base_uri": "https://localhost:8080/"
        },
        "id": "QixZsIMMCTVF",
        "outputId": "1152b23b-4c98-46d2-96d1-75dcd8285094"
      },
      "execution_count": 114,
      "outputs": [
        {
          "output_type": "stream",
          "name": "stdout",
          "text": [
            "Training set shape: X_train=(1489, 7), y_train=(1489,)\n",
            "Test set shape: X_test=(373, 7), y_test=(373,)\n"
          ]
        }
      ]
    },
    {
      "cell_type": "code",
      "source": [
        "# select feature\n",
        "numeric_features = ['Sales', 'Profit', 'Quantity', 'Discount']\n",
        "categorical_features = ['Category', 'Sub-Category']\n",
        "\n",
        "# preprocessing data\n",
        "preprocessor = ColumnTransformer(\n",
        "    transformers=[\n",
        "        ('num', StandardScaler(), numeric_features),\n",
        "        ('cat', OneHotEncoder(handle_unknown='ignore'), categorical_features)\n",
        "    ]\n",
        ")"
      ],
      "metadata": {
        "id": "i68004RbHtZz"
      },
      "execution_count": 115,
      "outputs": []
    },
    {
      "cell_type": "markdown",
      "source": [
        "# **4. Membangun Model Klasifikasi**\n"
      ],
      "metadata": {
        "id": "IVPbB03CMhTT"
      }
    },
    {
      "cell_type": "code",
      "source": [
        "# Train Model\n",
        "def train_model(model, X_train, y_train, preprocessor):\n",
        "    pipeline = Pipeline(steps=[\n",
        "        ('preprocessor', preprocessor),\n",
        "        ('classifier', model)\n",
        "    ])\n",
        "    pipeline.fit(X_train, y_train)\n",
        "    return pipeline\n",
        "\n",
        "# Evaluate Model\n",
        "def evaluate_model(pipeline, X_test, y_test):\n",
        "    y_pred = pipeline.predict(X_test)\n",
        "\n",
        "    return {\n",
        "        'accuracy': accuracy_score(y_test, y_pred),\n",
        "        'precision': precision_score(y_test, y_pred, average='weighted'),\n",
        "        'recall': recall_score(y_test, y_pred, average='weighted'),\n",
        "        'f1': f1_score(y_test, y_pred, average='weighted'),\n",
        "        'report': classification_report(y_test, y_pred)\n",
        "    }"
      ],
      "metadata": {
        "id": "Tjd0LeZZJQ8p"
      },
      "execution_count": 116,
      "outputs": []
    },
    {
      "cell_type": "markdown",
      "source": [
        "## **a. Membangun Model Klasifikasi**\n",
        "\n",
        "<!-- Setelah memilih algoritma klasifikasi yang sesuai, langkah selanjutnya adalah melatih model menggunakan data latih.\n",
        "\n",
        "Berikut adalah rekomendasi tahapannya.\n",
        "1. Pilih algoritma klasifikasi yang sesuai, seperti Logistic Regression, Decision Tree, Random Forest, atau K-Nearest Neighbors (KNN).\n",
        "2. Latih model menggunakan data latih. -->"
      ],
      "metadata": {
        "id": "Ned1pL9zMmBK"
      }
    },
    {
      "cell_type": "code",
      "source": [
        "# Training Model with Random Forest & KNN (without Hyperparameter tuning)\n",
        "rf_base = RandomForestClassifier(random_state=42)\n",
        "knn_base = KNeighborsClassifier()\n",
        "\n",
        "rf_pipeline_base = train_model(rf_base, X_train, y_train, preprocessor)\n",
        "knn_pipeline_base = train_model(knn_base, X_train, y_train, preprocessor)\n",
        "\n",
        "print(\"Finish Model training\")"
      ],
      "metadata": {
        "id": "4JYxBe87NLDk",
        "colab": {
          "base_uri": "https://localhost:8080/"
        },
        "outputId": "e8d38337-c972-432a-ad7b-5cd15b38e247"
      },
      "execution_count": 117,
      "outputs": [
        {
          "output_type": "stream",
          "name": "stdout",
          "text": [
            "Finish Model training\n"
          ]
        }
      ]
    },
    {
      "cell_type": "markdown",
      "source": [
        "> Disini saya membandingkan performa Random Forest dan KNN untuk proses klasifikasinya\n",
        "\n"
      ],
      "metadata": {
        "id": "seYoHNY3XU1y"
      }
    },
    {
      "cell_type": "markdown",
      "source": [
        "## **b. Evaluasi Model Klasifikasi**\n",
        "\n",
        "<!-- Berikut adalah **rekomendasi** tahapannya.\n",
        "1. Lakukan prediksi menggunakan data uji.\n",
        "2. Hitung metrik evaluasi seperti Accuracy dan F1-Score (Opsional: Precision dan Recall).\n",
        "3. Buat confusion matrix untuk melihat detail prediksi benar dan salah. -->"
      ],
      "metadata": {
        "id": "ergzChZFEL-O"
      }
    },
    {
      "cell_type": "code",
      "source": [
        "# Evaluasi Model Non Hyperparameter Tuning\n",
        "rf_metrics_base = evaluate_model(rf_pipeline_base, X_test, y_test)\n",
        "knn_metrics_base = evaluate_model(knn_pipeline_base, X_test, y_test)\n",
        "\n",
        "print(\"Random Forest Metrics:\")\n",
        "print(rf_metrics_base['report'])\n",
        "\n",
        "print(\"\\nK-Nearest Neighbors Metrics:\")\n",
        "print(knn_metrics_base['report'])"
      ],
      "metadata": {
        "id": "tMq4QAssNLip",
        "colab": {
          "base_uri": "https://localhost:8080/"
        },
        "outputId": "3aef93d4-1698-4688-8f74-2e43b55f9c8c"
      },
      "execution_count": 118,
      "outputs": [
        {
          "output_type": "stream",
          "name": "stdout",
          "text": [
            "Random Forest Metrics:\n",
            "              precision    recall  f1-score   support\n",
            "\n",
            "           0       0.94      1.00      0.97        67\n",
            "           1       0.89      0.80      0.84        20\n",
            "           2       1.00      0.99      0.99       286\n",
            "\n",
            "    accuracy                           0.98       373\n",
            "   macro avg       0.94      0.93      0.94       373\n",
            "weighted avg       0.98      0.98      0.98       373\n",
            "\n",
            "\n",
            "K-Nearest Neighbors Metrics:\n",
            "              precision    recall  f1-score   support\n",
            "\n",
            "           0       0.97      0.88      0.92        67\n",
            "           1       0.94      0.80      0.86        20\n",
            "           2       0.97      1.00      0.98       286\n",
            "\n",
            "    accuracy                           0.97       373\n",
            "   macro avg       0.96      0.89      0.92       373\n",
            "weighted avg       0.96      0.97      0.96       373\n",
            "\n"
          ]
        }
      ]
    },
    {
      "cell_type": "markdown",
      "source": [
        "Dari Hasil Pengujian pada data testing (model non tuning), didapatkan poin :\n",
        "- Akurasi Random Forest = 0.98 vs KNN = 0.97\n",
        "- Weighted Avg F1-Score Random Forest = 0.98 vs KNN = 0.96\n",
        "\n",
        " **Random Forest** memiliki akurasi dan weighted F1-score yang lebih tinggi daripada **KNN**, sehingga secara umum dapat dikatakan Random Forest lebih unggul untuk data ini. KNN sendiri sebenarnya performanya tidak jauh tertinggal (beda tipis) tapi jika diminta memilih model terbaik, maka **Random Forest** yang keluar sebagai pilihan utama."
      ],
      "metadata": {
        "id": "H4_9OwrsXZlz"
      }
    },
    {
      "cell_type": "markdown",
      "source": [
        "## **c. Tuning Model Klasifikasi (Optional)**"
      ],
      "metadata": {
        "id": "ph9yIYDXEPuB"
      }
    },
    {
      "cell_type": "code",
      "source": [
        "# Training Model with Hyperaparameter tune (Random Search)\n",
        "def tune_model(model, params, X_train, y_train, preprocessor):\n",
        "    pipeline = Pipeline(steps=[\n",
        "        ('preprocessor', preprocessor),\n",
        "        ('classifier', model)\n",
        "    ])\n",
        "\n",
        "    search = RandomizedSearchCV(\n",
        "        pipeline,\n",
        "        params,\n",
        "        n_iter=20,\n",
        "        cv=3,\n",
        "        scoring='f1_weighted',\n",
        "        random_state=42,\n",
        "        n_jobs=-1\n",
        "    )\n",
        "    search.fit(X_train, y_train)\n",
        "    return [search.best_estimator_, search.best_params_]"
      ],
      "metadata": {
        "id": "oPyk2ArjOzw5"
      },
      "execution_count": 119,
      "outputs": []
    },
    {
      "cell_type": "code",
      "source": [
        "# Parameter for Tuning\n",
        "rf_params = {\n",
        "    'classifier__n_estimators': [100, 200, 500],\n",
        "    'classifier__max_depth': [None, 10, 20],\n",
        "    'classifier__min_samples_split': [2, 5, 10],\n",
        "    'classifier__class_weight': ['balanced', None]\n",
        "}\n",
        "\n",
        "knn_params = {\n",
        "    'classifier__n_neighbors': np.arange(3, 15),\n",
        "    'classifier__weights': ['uniform', 'distance'],\n",
        "    'classifier__metric': ['euclidean', 'manhattan']\n",
        "}\n",
        "\n",
        "rf_tune = tune_model(RandomForestClassifier(), rf_params, X_train, y_train, preprocessor)[0]\n",
        "knn_tune = tune_model(KNeighborsClassifier(), knn_params, X_train, y_train, preprocessor)[0]\n",
        "\n",
        "print(\"Finish Model tuning\")"
      ],
      "metadata": {
        "id": "winbFzb8NL95",
        "colab": {
          "base_uri": "https://localhost:8080/"
        },
        "outputId": "dc0adf8b-e4de-4792-9193-5a0fa148c9a7"
      },
      "execution_count": 120,
      "outputs": [
        {
          "output_type": "stream",
          "name": "stdout",
          "text": [
            "Finish Model tuning\n"
          ]
        }
      ]
    },
    {
      "cell_type": "code",
      "source": [
        "print(f\"Best parameters Random Forest (Random Search): {rf_tune[1]}\")\n",
        "print(f\"Best parameters KNN (Random Search): {knn_tune[1]}\")"
      ],
      "metadata": {
        "colab": {
          "base_uri": "https://localhost:8080/"
        },
        "id": "dVF9YBYvQwDw",
        "outputId": "21ac91a9-a3d4-41cd-9e81-a9a1ac61c358"
      },
      "execution_count": 121,
      "outputs": [
        {
          "output_type": "stream",
          "name": "stdout",
          "text": [
            "Best parameters Random Forest (Random Search): RandomForestClassifier(class_weight='balanced', min_samples_split=5)\n",
            "Best parameters KNN (Random Search): KNeighborsClassifier(metric='euclidean', n_neighbors=7, weights='distance')\n"
          ]
        }
      ]
    },
    {
      "cell_type": "markdown",
      "source": [
        "## **d. Evaluasi Model Klasifikasi setelah Tuning (Optional)**\n",
        "\n",
        "<!-- Berikut adalah rekomendasi tahapannya.\n",
        "1. Gunakan model dengan hyperparameter terbaik.\n",
        "2. Hitung ulang metrik evaluasi untuk melihat apakah ada peningkatan performa. -->"
      ],
      "metadata": {
        "id": "hE7pqlEPEYzI"
      }
    },
    {
      "cell_type": "code",
      "source": [
        "rf_metrics_tuned = evaluate_model(rf_tune, X_test, y_test)\n",
        "knn_metrics_tuned = evaluate_model(knn_tune, X_test, y_test)\n",
        "\n",
        "print(\"Random Forest Metrics (Tuned):\")\n",
        "print(rf_metrics_tuned['report'])\n",
        "\n",
        "print(\"\\nK-Nearest Neighbors Metrics (Tuned):\")\n",
        "print(knn_metrics_tuned['report'])"
      ],
      "metadata": {
        "id": "HTXZRvEeNMb1",
        "colab": {
          "base_uri": "https://localhost:8080/"
        },
        "outputId": "23cd1501-f6e6-4dcf-90b3-fc202e5557e2"
      },
      "execution_count": 122,
      "outputs": [
        {
          "output_type": "stream",
          "name": "stdout",
          "text": [
            "Random Forest Metrics (Tuned):\n",
            "              precision    recall  f1-score   support\n",
            "\n",
            "           0       0.99      0.99      0.99        67\n",
            "           1       0.83      0.95      0.88        20\n",
            "           2       0.99      0.98      0.99       286\n",
            "\n",
            "    accuracy                           0.98       373\n",
            "   macro avg       0.93      0.97      0.95       373\n",
            "weighted avg       0.98      0.98      0.98       373\n",
            "\n",
            "\n",
            "K-Nearest Neighbors Metrics (Tuned):\n",
            "              precision    recall  f1-score   support\n",
            "\n",
            "           0       0.95      0.84      0.89        67\n",
            "           1       0.88      0.75      0.81        20\n",
            "           2       0.96      0.99      0.97       286\n",
            "\n",
            "    accuracy                           0.95       373\n",
            "   macro avg       0.93      0.86      0.89       373\n",
            "weighted avg       0.95      0.95      0.95       373\n",
            "\n"
          ]
        }
      ]
    },
    {
      "cell_type": "markdown",
      "source": [
        "Dari Hasil Pengujian pada data testing (model tuning), didapatkan poin :\n",
        "\n",
        "- Akurasi Random Forest = 0.98 vs KNN = 0.95\n",
        "\n",
        "- Weighted Avg F1-Score Random Forest = 0.98 vs KNN = 0.95\n",
        "\n",
        "Sama dengan model tanpa tuning, Random Forest mendapatkan nilai akurasi yang lebih baik dari pada KNN pada dataset ini. mungkin agak aneh, namun menariknya hyperparameter tuning yang dilakukan untuk algoritma Random Forest tidak berdampak pada hasil metriks evaluasinya, namun untuk KNN cukup berdampak, bahkan menurunkan hasil evaluasi metriks akurasi dan avg F1 scorenya."
      ],
      "metadata": {
        "id": "QpLKIoAmYx9I"
      }
    },
    {
      "cell_type": "markdown",
      "source": [
        "## **e. Analisis Hasil Evaluasi Model Klasifikasi**"
      ],
      "metadata": {
        "id": "ZRsOdm4uEgAW"
      }
    },
    {
      "cell_type": "code",
      "source": [
        "results = pd.DataFrame({\n",
        "    'Model': ['Random Forest (Base)', 'Random Forest (Tuned)', 'KNN (Base)', 'KNN (Tuned)'],\n",
        "    'Accuracy': [\n",
        "        rf_metrics_base['accuracy'],\n",
        "        rf_metrics_tuned['accuracy'],\n",
        "        knn_metrics_base['accuracy'],\n",
        "        knn_metrics_tuned['accuracy']\n",
        "    ],\n",
        "    'Precision': [\n",
        "        rf_metrics_base['precision'],\n",
        "        rf_metrics_tuned['precision'],\n",
        "        knn_metrics_base['precision'],\n",
        "        knn_metrics_tuned['precision']\n",
        "    ],\n",
        "    'Recall': [\n",
        "        rf_metrics_base['recall'],\n",
        "        rf_metrics_tuned['recall'],\n",
        "        knn_metrics_base['recall'],\n",
        "        knn_metrics_tuned['recall']\n",
        "    ],\n",
        "    'F1-Score': [\n",
        "        rf_metrics_base['f1'],\n",
        "        rf_metrics_tuned['f1'],\n",
        "        knn_metrics_base['f1'],\n",
        "        knn_metrics_tuned['f1']\n",
        "    ]\n",
        "})\n",
        "\n",
        "print(\"Metriks Perbandingan : \\n\")\n",
        "print(results.round(4))"
      ],
      "metadata": {
        "colab": {
          "base_uri": "https://localhost:8080/"
        },
        "id": "WRkeEFz8Pef-",
        "outputId": "4f6665b3-d1b8-44a0-bd98-e85c4d5cdf68"
      },
      "execution_count": 123,
      "outputs": [
        {
          "output_type": "stream",
          "name": "stdout",
          "text": [
            "Metriks Perbandingan : \n",
            "\n",
            "                   Model  Accuracy  Precision  Recall  F1-Score\n",
            "0   Random Forest (Base)    0.9812     0.9812  0.9812    0.9809\n",
            "1  Random Forest (Tuned)    0.9812     0.9826  0.9812    0.9817\n",
            "2             KNN (Base)    0.9651     0.9650  0.9651    0.9642\n",
            "3            KNN (Tuned)    0.9517     0.9510  0.9517    0.9502\n"
          ]
        }
      ]
    },
    {
      "cell_type": "code",
      "source": [
        "plt.figure(figsize=(10, 6))\n",
        "results.set_index('Model').plot(kind='bar', rot=45)\n",
        "plt.title('Perbandingan Performa Model')\n",
        "plt.ylabel('Nilai')\n",
        "plt.legend(bbox_to_anchor=(1.05, 1), loc='upper left')\n",
        "plt.tight_layout()\n",
        "plt.show()"
      ],
      "metadata": {
        "colab": {
          "base_uri": "https://localhost:8080/",
          "height": 504
        },
        "id": "-37CMrLjP9DM",
        "outputId": "632b72c3-d36b-4f46-943b-8e43aaa15cde"
      },
      "execution_count": 124,
      "outputs": [
        {
          "output_type": "display_data",
          "data": {
            "text/plain": [
              "<Figure size 1000x600 with 0 Axes>"
            ]
          },
          "metadata": {}
        },
        {
          "output_type": "display_data",
          "data": {
            "text/plain": [
              "<Figure size 640x480 with 1 Axes>"
            ],
            "image/png": "[encoded data removed]"
          },
          "metadata": {}
        }
      ]
    },
    {
      "cell_type": "code",
      "source": [
        "# Check Model is Overfitting or Not\n",
        "def check_overfitting(model, X_train, y_train, X_test, y_test):\n",
        "    train_score = model.score(X_train, y_train)\n",
        "    test_score = model.score(X_test, y_test)\n",
        "    return train_score, test_score\n",
        "\n",
        "rf_train_score_untuned, rf_test_score_untuned = check_overfitting(rf_pipeline_base, X_train, y_train, X_test, y_test)\n",
        "knn_train_score_untuned, knn_test_score_untuned = check_overfitting(knn_pipeline_base, X_train, y_train, X_test, y_test)\n",
        "\n",
        "rf_train_score_tuned, rf_test_score_tuned = check_overfitting(rf_tune, X_train, y_train, X_test, y_test)\n",
        "knn_train_score_tuned, knn_test_score_tuned = check_overfitting(knn_tune, X_train, y_train, X_test, y_test)\n",
        "\n",
        "df_scores = pd.DataFrame({\n",
        "    'Model': ['Random Forest (Base)', 'Random Forest (Tuned)', 'KNN (Base)', 'KNN (Tuned)'],\n",
        "    'Train Score': [rf_train_score_untuned, rf_train_score_tuned, knn_train_score_untuned, knn_train_score_tuned],\n",
        "    'Test Score': [rf_test_score_untuned, rf_test_score_tuned, knn_test_score_untuned, knn_test_score_tuned]\n",
        "})\n",
        "\n",
        "df_scores"
      ],
      "metadata": {
        "colab": {
          "base_uri": "https://localhost:8080/",
          "height": 175
        },
        "id": "ss5DRouceRZk",
        "outputId": "496dd6e7-d88d-49e1-95fe-8bc2dbe1b225"
      },
      "execution_count": 125,
      "outputs": [
        {
          "output_type": "execute_result",
          "data": {
            "text/plain": [
              "                   Model  Train Score  Test Score\n",
              "0   Random Forest (Base)     1.000000    0.981233\n",
              "1  Random Forest (Tuned)     0.996642    0.981233\n",
              "2             KNN (Base)     0.969107    0.965147\n",
              "3            KNN (Tuned)     1.000000    0.951743"
            ],
            "text/html": [
              "\n",
              "  <div id=\"df-74ac30a0-7903-4560-ad5d-8034817ece8f\" class=\"colab-df-container\">\n",
              "    <div>\n",
              "<style scoped>\n",
              "    .dataframe tbody tr th:only-of-type {\n",
              "        vertical-align: middle;\n",
              "    }\n",
              "\n",
              "    .dataframe tbody tr th {\n",
              "        vertical-align: top;\n",
              "    }\n",
              "\n",
              "    .dataframe thead th {\n",
              "        text-align: right;\n",
              "    }\n",
              "</style>\n",
              "<table border=\"1\" class=\"dataframe\">\n",
              "  <thead>\n",
              "    <tr style=\"text-align: right;\">\n",
              "      <th></th>\n",
              "      <th>Model</th>\n",
              "      <th>Train Score</th>\n",
              "      <th>Test Score</th>\n",
              "    </tr>\n",
              "  </thead>\n",
              "  <tbody>\n",
              "    <tr>\n",
              "      <th>0</th>\n",
              "      <td>Random Forest (Base)</td>\n",
              "      <td>1.000000</td>\n",
              "      <td>0.981233</td>\n",
              "    </tr>\n",
              "    <tr>\n",
              "      <th>1</th>\n",
              "      <td>Random Forest (Tuned)</td>\n",
              "      <td>0.996642</td>\n",
              "      <td>0.981233</td>\n",
              "    </tr>\n",
              "    <tr>\n",
              "      <th>2</th>\n",
              "      <td>KNN (Base)</td>\n",
              "      <td>0.969107</td>\n",
              "      <td>0.965147</td>\n",
              "    </tr>\n",
              "    <tr>\n",
              "      <th>3</th>\n",
              "      <td>KNN (Tuned)</td>\n",
              "      <td>1.000000</td>\n",
              "      <td>0.951743</td>\n",
              "    </tr>\n",
              "  </tbody>\n",
              "</table>\n",
              "</div>\n",
              "    <div class=\"colab-df-buttons\">\n",
              "\n",
              "  <div class=\"colab-df-container\">\n",
              "    <button class=\"colab-df-convert\" onclick=\"convertToInteractive('df-74ac30a0-7903-4560-ad5d-8034817ece8f')\"\n",
              "            title=\"Convert this dataframe to an interactive table.\"\n",
              "            style=\"display:none;\">\n",
              "\n",
              "  <svg xmlns=\"http://www.w3.org/2000/svg\" height=\"24px\" viewBox=\"0 -960 960 960\">\n",
              "    <path d=\"M120-120v-720h720v720H120Zm60-500h600v-160H180v160Zm220 220h160v-160H400v160Zm0 220h160v-160H400v160ZM180-400h160v-160H180v160Zm440 0h160v-160H620v160ZM180-180h160v-160H180v160Zm440 0h160v-160H620v160Z\"/>\n",
              "  </svg>\n",
              "    </button>\n",
              "\n",
              "  <style>\n",
              "    .colab-df-container {\n",
              "      display:flex;\n",
              "      gap: 12px;\n",
              "    }\n",
              "\n",
              "    .colab-df-convert {\n",
              "      background-color: #E8F0FE;\n",
              "      border: none;\n",
              "      border-radius: 50%;\n",
              "      cursor: pointer;\n",
              "      display: none;\n",
              "      fill: #1967D2;\n",
              "      height: 32px;\n",
              "      padding: 0 0 0 0;\n",
              "      width: 32px;\n",
              "    }\n",
              "\n",
              "    .colab-df-convert:hover {\n",
              "      background-color: #E2EBFA;\n",
              "      box-shadow: 0px 1px 2px rgba(60, 64, 67, 0.3), 0px 1px 3px 1px rgba(60, 64, 67, 0.15);\n",
              "      fill: #174EA6;\n",
              "    }\n",
              "\n",
              "    .colab-df-buttons div {\n",
              "      margin-bottom: 4px;\n",
              "    }\n",
              "\n",
              "    [theme=dark] .colab-df-convert {\n",
              "      background-color: #3B4455;\n",
              "      fill: #D2E3FC;\n",
              "    }\n",
              "\n",
              "    [theme=dark] .colab-df-convert:hover {\n",
              "      background-color: #434B5C;\n",
              "      box-shadow: 0px 1px 3px 1px rgba(0, 0, 0, 0.15);\n",
              "      filter: drop-shadow(0px 1px 2px rgba(0, 0, 0, 0.3));\n",
              "      fill: #FFFFFF;\n",
              "    }\n",
              "  </style>\n",
              "\n",
              "    <script>\n",
              "      const buttonEl =\n",
              "        document.querySelector('#df-74ac30a0-7903-4560-ad5d-8034817ece8f button.colab-df-convert');\n",
              "      buttonEl.style.display =\n",
              "        google.colab.kernel.accessAllowed ? 'block' : 'none';\n",
              "\n",
              "      async function convertToInteractive(key) {\n",
              "        const element = document.querySelector('#df-74ac30a0-7903-4560-ad5d-8034817ece8f');\n",
              "        const dataTable =\n",
              "          await google.colab.kernel.invokeFunction('convertToInteractive',\n",
              "                                                    [key], {});\n",
              "        if (!dataTable) return;\n",
              "\n",
              "        const docLinkHtml = 'Like what you see? Visit the ' +\n",
              "          '<a target=\"_blank\" href=https://colab.research.google.com/notebooks/data_table.ipynb>data table notebook</a>'\n",
              "          + ' to learn more about interactive tables.';\n",
              "        element.innerHTML = '';\n",
              "        dataTable['output_type'] = 'display_data';\n",
              "        await google.colab.output.renderOutput(dataTable, element);\n",
              "        const docLink = document.createElement('div');\n",
              "        docLink.innerHTML = docLinkHtml;\n",
              "        element.appendChild(docLink);\n",
              "      }\n",
              "    </script>\n",
              "  </div>\n",
              "\n",
              "\n",
              "<div id=\"df-4d9734e2-db63-489f-a552-d600d8043dec\">\n",
              "  <button class=\"colab-df-quickchart\" onclick=\"quickchart('df-4d9734e2-db63-489f-a552-d600d8043dec')\"\n",
              "            title=\"Suggest charts\"\n",
              "            style=\"display:none;\">\n",
              "\n",
              "<svg xmlns=\"http://www.w3.org/2000/svg\" height=\"24px\"viewBox=\"0 0 24 24\"\n",
              "     width=\"24px\">\n",
              "    <g>\n",
              "        <path d=\"M19 3H5c-1.1 0-2 .9-2 2v14c0 1.1.9 2 2 2h14c1.1 0 2-.9 2-2V5c0-1.1-.9-2-2-2zM9 17H7v-7h2v7zm4 0h-2V7h2v10zm4 0h-2v-4h2v4z\"/>\n",
              "    </g>\n",
              "</svg>\n",
              "  </button>\n",
              "\n",
              "<style>\n",
              "  .colab-df-quickchart {\n",
              "      --bg-color: #E8F0FE;\n",
              "      --fill-color: #1967D2;\n",
              "      --hover-bg-color: #E2EBFA;\n",
              "      --hover-fill-color: #174EA6;\n",
              "      --disabled-fill-color: #AAA;\n",
              "      --disabled-bg-color: #DDD;\n",
              "  }\n",
              "\n",
              "  [theme=dark] .colab-df-quickchart {\n",
              "      --bg-color: #3B4455;\n",
              "      --fill-color: #D2E3FC;\n",
              "      --hover-bg-color: #434B5C;\n",
              "      --hover-fill-color: #FFFFFF;\n",
              "      --disabled-bg-color: #3B4455;\n",
              "      --disabled-fill-color: #666;\n",
              "  }\n",
              "\n",
              "  .colab-df-quickchart {\n",
              "    background-color: var(--bg-color);\n",
              "    border: none;\n",
              "    border-radius: 50%;\n",
              "    cursor: pointer;\n",
              "    display: none;\n",
              "    fill: var(--fill-color);\n",
              "    height: 32px;\n",
              "    padding: 0;\n",
              "    width: 32px;\n",
              "  }\n",
              "\n",
              "  .colab-df-quickchart:hover {\n",
              "    background-color: var(--hover-bg-color);\n",
              "    box-shadow: 0 1px 2px rgba(60, 64, 67, 0.3), 0 1px 3px 1px rgba(60, 64, 67, 0.15);\n",
              "    fill: var(--button-hover-fill-color);\n",
              "  }\n",
              "\n",
              "  .colab-df-quickchart-complete:disabled,\n",
              "  .colab-df-quickchart-complete:disabled:hover {\n",
              "    background-color: var(--disabled-bg-color);\n",
              "    fill: var(--disabled-fill-color);\n",
              "    box-shadow: none;\n",
              "  }\n",
              "\n",
              "  .colab-df-spinner {\n",
              "    border: 2px solid var(--fill-color);\n",
              "    border-color: transparent;\n",
              "    border-bottom-color: var(--fill-color);\n",
              "    animation:\n",
              "      spin 1s steps(1) infinite;\n",
              "  }\n",
              "\n",
              "  @keyframes spin {\n",
              "    0% {\n",
              "      border-color: transparent;\n",
              "      border-bottom-color: var(--fill-color);\n",
              "      border-left-color: var(--fill-color);\n",
              "    }\n",
              "    20% {\n",
              "      border-color: transparent;\n",
              "      border-left-color: var(--fill-color);\n",
              "      border-top-color: var(--fill-color);\n",
              "    }\n",
              "    30% {\n",
              "      border-color: transparent;\n",
              "      border-left-color: var(--fill-color);\n",
              "      border-top-color: var(--fill-color);\n",
              "      border-right-color: var(--fill-color);\n",
              "    }\n",
              "    40% {\n",
              "      border-color: transparent;\n",
              "      border-right-color: var(--fill-color);\n",
              "      border-top-color: var(--fill-color);\n",
              "    }\n",
              "    60% {\n",
              "      border-color: transparent;\n",
              "      border-right-color: var(--fill-color);\n",
              "    }\n",
              "    80% {\n",
              "      border-color: transparent;\n",
              "      border-right-color: var(--fill-color);\n",
              "      border-bottom-color: var(--fill-color);\n",
              "    }\n",
              "    90% {\n",
              "      border-color: transparent;\n",
              "      border-bottom-color: var(--fill-color);\n",
              "    }\n",
              "  }\n",
              "</style>\n",
              "\n",
              "  <script>\n",
              "    async function quickchart(key) {\n",
              "      const quickchartButtonEl =\n",
              "        document.querySelector('#' + key + ' button');\n",
              "      quickchartButtonEl.disabled = true;  // To prevent multiple clicks.\n",
              "      quickchartButtonEl.classList.add('colab-df-spinner');\n",
              "      try {\n",
              "        const charts = await google.colab.kernel.invokeFunction(\n",
              "            'suggestCharts', [key], {});\n",
              "      } catch (error) {\n",
              "        console.error('Error during call to suggestCharts:', error);\n",
              "      }\n",
              "      quickchartButtonEl.classList.remove('colab-df-spinner');\n",
              "      quickchartButtonEl.classList.add('colab-df-quickchart-complete');\n",
              "    }\n",
              "    (() => {\n",
              "      let quickchartButtonEl =\n",
              "        document.querySelector('#df-4d9734e2-db63-489f-a552-d600d8043dec button');\n",
              "      quickchartButtonEl.style.display =\n",
              "        google.colab.kernel.accessAllowed ? 'block' : 'none';\n",
              "    })();\n",
              "  </script>\n",
              "</div>\n",
              "\n",
              "  <div id=\"id_b587ba4d-a85c-41f3-99b0-9601c79972f8\">\n",
              "    <style>\n",
              "      .colab-df-generate {\n",
              "        background-color: #E8F0FE;\n",
              "        border: none;\n",
              "        border-radius: 50%;\n",
              "        cursor: pointer;\n",
              "        display: none;\n",
              "        fill: #1967D2;\n",
              "        height: 32px;\n",
              "        padding: 0 0 0 0;\n",
              "        width: 32px;\n",
              "      }\n",
              "\n",
              "      .colab-df-generate:hover {\n",
              "        background-color: #E2EBFA;\n",
              "        box-shadow: 0px 1px 2px rgba(60, 64, 67, 0.3), 0px 1px 3px 1px rgba(60, 64, 67, 0.15);\n",
              "        fill: #174EA6;\n",
              "      }\n",
              "\n",
              "      [theme=dark] .colab-df-generate {\n",
              "        background-color: #3B4455;\n",
              "        fill: #D2E3FC;\n",
              "      }\n",
              "\n",
              "      [theme=dark] .colab-df-generate:hover {\n",
              "        background-color: #434B5C;\n",
              "        box-shadow: 0px 1px 3px 1px rgba(0, 0, 0, 0.15);\n",
              "        filter: drop-shadow(0px 1px 2px rgba(0, 0, 0, 0.3));\n",
              "        fill: #FFFFFF;\n",
              "      }\n",
              "    </style>\n",
              "    <button class=\"colab-df-generate\" onclick=\"generateWithVariable('df_scores')\"\n",
              "            title=\"Generate code using this dataframe.\"\n",
              "            style=\"display:none;\">\n",
              "\n",
              "  <svg xmlns=\"http://www.w3.org/2000/svg\" height=\"24px\"viewBox=\"0 0 24 24\"\n",
              "       width=\"24px\">\n",
              "    <path d=\"M7,19H8.4L18.45,9,17,7.55,7,17.6ZM5,21V16.75L18.45,3.32a2,2,0,0,1,2.83,0l1.4,1.43a1.91,1.91,0,0,1,.58,1.4,1.91,1.91,0,0,1-.58,1.4L9.25,21ZM18.45,9,17,7.55Zm-12,3A5.31,5.31,0,0,0,4.9,8.1,5.31,5.31,0,0,0,1,6.5,5.31,5.31,0,0,0,4.9,4.9,5.31,5.31,0,0,0,6.5,1,5.31,5.31,0,0,0,8.1,4.9,5.31,5.31,0,0,0,12,6.5,5.46,5.46,0,0,0,6.5,12Z\"/>\n",
              "  </svg>\n",
              "    </button>\n",
              "    <script>\n",
              "      (() => {\n",
              "      const buttonEl =\n",
              "        document.querySelector('#id_b587ba4d-a85c-41f3-99b0-9601c79972f8 button.colab-df-generate');\n",
              "      buttonEl.style.display =\n",
              "        google.colab.kernel.accessAllowed ? 'block' : 'none';\n",
              "\n",
              "      buttonEl.onclick = () => {\n",
              "        google.colab.notebook.generateWithVariable('df_scores');\n",
              "      }\n",
              "      })();\n",
              "    </script>\n",
              "  </div>\n",
              "\n",
              "    </div>\n",
              "  </div>\n"
            ],
            "application/vnd.google.colaboratory.intrinsic+json": {
              "type": "dataframe",
              "variable_name": "df_scores",
              "summary": "{\n  \"name\": \"df_scores\",\n  \"rows\": 4,\n  \"fields\": [\n    {\n      \"column\": \"Model\",\n      \"properties\": {\n        \"dtype\": \"string\",\n        \"num_unique_values\": 4,\n        \"samples\": [\n          \"Random Forest (Tuned)\",\n          \"KNN (Tuned)\",\n          \"Random Forest (Base)\"\n        ],\n        \"semantic_type\": \"\",\n        \"description\": \"\"\n      }\n    },\n    {\n      \"column\": \"Train Score\",\n      \"properties\": {\n        \"dtype\": \"number\",\n        \"std\": 0.01497087154185541,\n        \"min\": 0.9691067830758898,\n        \"max\": 1.0,\n        \"num_unique_values\": 3,\n        \"samples\": [\n          1.0,\n          0.9966420416386836,\n          0.9691067830758898\n        ],\n        \"semantic_type\": \"\",\n        \"description\": \"\"\n      }\n    },\n    {\n      \"column\": \"Test Score\",\n      \"properties\": {\n        \"dtype\": \"number\",\n        \"std\": 0.014249525218142971,\n        \"min\": 0.9517426273458445,\n        \"max\": 0.9812332439678284,\n        \"num_unique_values\": 3,\n        \"samples\": [\n          0.9812332439678284,\n          0.9651474530831099,\n          0.9517426273458445\n        ],\n        \"semantic_type\": \"\",\n        \"description\": \"\"\n      }\n    }\n  ]\n}"
            }
          },
          "metadata": {},
          "execution_count": 125
        }
      ]
    },
    {
      "cell_type": "markdown",
      "source": [
        "Kesimpulan:\n",
        "\n",
        "1. Random Forest vs KNN\n",
        "\n",
        "  - Random Forest (baik versi base maupun tuned) secara konsisten unggul dibanding KNN (base maupun tuned) di semua metrik (Accuracy, Precision, Recall, dan F1-Score).\n",
        "  - Hal ini menunjukkan bahwa untuk dataset dan skenario ini, algoritma Random Forest lebih efektif daripada algortima KNN.\n",
        "\n",
        "2. Perbandingan Random Forest (Base) vs Random Forest (Tuned)\n",
        "\n",
        "  - Kedua versi Random Forest memiliki Accuracy yang sama (0.9812).\n",
        "  - Namun, Random Forest (Tuned) sedikit lebih baik dalam Precision (0.9826 vs 0.9812) dan juga F1-Score (0.9817 vs 0.9809).\n",
        "  - Perbedaan ini tergolong kecil, tetapi tetap menunjukkan bahwa tuning hyperparameter mampu memberikan peningkatan performa walau tipis.\n",
        "\n",
        "3. Perbandingan KNN (Base) vs KNN (Tuned)\n",
        "\n",
        "  - KNN (Base) memiliki Accuracy sebesar 0.9651, sedangkan KNN (Tuned) justru turun menjadi 0.9517.\n",
        "  - Demikian pula pada metrik Precision, Recall, dan F1-Score, versi tuned lebih rendah.\n",
        "  - Ini mengindikasikan bahwa proses tuning pada KNN belum optimal atau parameter yang di set saat ini tidak sesuai sehingga menurunkan performa model.\n",
        "\n",
        "4. Apakah Model Underfitting & Overfitting?\n",
        "  - Underfitting tidak terjadi pada model model yang dihasilkan karena hasil uji evaluasi pada data training tinggi.\n",
        "  - Overfitting terindikasi sedikit pada model Random Forest (Base & Tuned) namun tidak signifikan, model KNN (base) menunjukan generalisasi yang baik dengan gap yang sangat kecil, berbanding terbalik dengan model KNN (tune) yang menunjukan overfitting yang lebih jelas karena gap antara nilai evaluasi training dan testing yang cukup besar.\n",
        "  \n",
        "Model Terbaik Secara keseluruhan, Random Forest (Tuned) menjadi model terbaik karena memiliki nilai precision dan F1-score yang sedikit lebih unggul, dengan accuracy yang tetap tinggi."
      ],
      "metadata": {
        "id": "PlSifNeYZ7qM"
      }
    },
    {
      "cell_type": "code",
      "source": [
        "# Save Model KNN & Random Forest\n",
        "import joblib\n",
        "\n",
        "joblib.dump(rf_pipeline_base, 'rf_pipeline_base.pkl')\n",
        "joblib.dump(knn_pipeline_base, 'knn_pipeline_base.pkl')\n",
        "joblib.dump(rf_tune, 'rf_tune.pkl')\n",
        "joblib.dump(knn_tune, 'knn_tune.pkl')"
      ],
      "metadata": {
        "colab": {
          "base_uri": "https://localhost:8080/"
        },
        "id": "58PBMJOeja5h",
        "outputId": "3e36292c-a66e-484c-8ac1-32d92ee21873"
      },
      "execution_count": 126,
      "outputs": [
        {
          "output_type": "execute_result",
          "data": {
            "text/plain": [
              "['knn_tune.pkl']"
            ]
          },
          "metadata": {},
          "execution_count": 126
        }
      ]
    }
  ]
}